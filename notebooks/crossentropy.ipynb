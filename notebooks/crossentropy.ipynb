{
 "cells": [
  {
   "cell_type": "code",
   "execution_count": 2,
   "metadata": {},
   "outputs": [],
   "source": [
    "import torch.nn as nn\n",
    "import torch"
   ]
  },
  {
   "cell_type": "code",
   "execution_count": 30,
   "metadata": {},
   "outputs": [
    {
     "data": {
      "text/plain": [
       "tensor([1.7478, 1.5728, 2.2054], grad_fn=<NllLossBackward0>)"
      ]
     },
     "execution_count": 30,
     "metadata": {},
     "output_type": "execute_result"
    }
   ],
   "source": [
    "loss"
   ]
  },
  {
   "cell_type": "code",
   "execution_count": 53,
   "metadata": {},
   "outputs": [],
   "source": [
    "criterion = nn.CrossEntropyLoss(reduction=\"none\")\n",
    "# b, classes, pixels\n",
    "output = torch.randint(0,2, (3, 4, 5)).type(torch.float)\n",
    "\n",
    "# b, pixels with values of classes\n",
    "target = torch.randint(0,4,size=(3, 5)).type(torch.LongTensor)\n",
    "loss = criterion(output, target)"
   ]
  },
  {
   "cell_type": "code",
   "execution_count": 54,
   "metadata": {},
   "outputs": [
    {
     "data": {
      "text/plain": [
       "tensor([[[0., 0., 0., 0., 1.],\n",
       "         [1., 0., 0., 1., 0.],\n",
       "         [1., 0., 0., 1., 1.],\n",
       "         [0., 0., 0., 1., 0.]],\n",
       "\n",
       "        [[1., 1., 0., 0., 1.],\n",
       "         [1., 1., 1., 0., 1.],\n",
       "         [1., 1., 0., 0., 0.],\n",
       "         [1., 0., 0., 0., 1.]],\n",
       "\n",
       "        [[0., 0., 0., 1., 1.],\n",
       "         [1., 1., 1., 1., 1.],\n",
       "         [0., 1., 0., 1., 0.],\n",
       "         [1., 0., 1., 1., 1.]]])"
      ]
     },
     "execution_count": 54,
     "metadata": {},
     "output_type": "execute_result"
    }
   ],
   "source": [
    "output \n",
    "# b, classes\n",
    "# b, pixels (binary classification)\n",
    "\n",
    "\n",
    "# b, pixels, classes. \n"
   ]
  },
  {
   "cell_type": "code",
   "execution_count": 55,
   "metadata": {},
   "outputs": [
    {
     "data": {
      "text/plain": [
       "tensor([[3, 2, 3, 0, 2],\n",
       "        [2, 3, 2, 3, 0],\n",
       "        [0, 3, 3, 3, 1]])"
      ]
     },
     "execution_count": 55,
     "metadata": {},
     "output_type": "execute_result"
    }
   ],
   "source": [
    "target"
   ]
  },
  {
   "cell_type": "code",
   "execution_count": 56,
   "metadata": {},
   "outputs": [
    {
     "data": {
      "text/plain": [
       "tensor([[2.0064, 1.3863, 1.3863, 2.2143, 1.0064],\n",
       "        [1.3863, 2.2143, 1.7437, 1.3863, 1.2143],\n",
       "        [2.0064, 2.0064, 1.0064, 1.3863, 1.2143]])"
      ]
     },
     "execution_count": 56,
     "metadata": {},
     "output_type": "execute_result"
    }
   ],
   "source": [
    "loss"
   ]
  },
  {
   "cell_type": "code",
   "execution_count": 23,
   "metadata": {},
   "outputs": [
    {
     "data": {
      "text/plain": [
       "[tensor([[-0.5305,  1.2313],\n",
       "         [ 0.7626,  1.7983]]),\n",
       " tensor([[-0.4522, -0.0570],\n",
       "         [ 1.8869,  1.1403]]),\n",
       " tensor([[-0.3279, -0.6617],\n",
       "         [-0.4655,  0.1577]])]"
      ]
     },
     "execution_count": 23,
     "metadata": {},
     "output_type": "execute_result"
    }
   ],
   "source": [
    "import torch\n",
    "a = [torch.randn(2, 2), torch.randn(2, 2), torch.randn(2, 2)]\n",
    "a"
   ]
  },
  {
   "cell_type": "code",
   "execution_count": 24,
   "metadata": {},
   "outputs": [
    {
     "data": {
      "text/plain": [
       "torch.Size([6, 6])"
      ]
     },
     "execution_count": 24,
     "metadata": {},
     "output_type": "execute_result"
    }
   ],
   "source": [
    "b = torch.block_diag(*a)\n",
    "b.shape"
   ]
  },
  {
   "cell_type": "code",
   "execution_count": 20,
   "metadata": {},
   "outputs": [
    {
     "data": {
      "text/plain": [
       "tensor([[ 1.0875, -0.3608,  0.0000,  0.0000,  0.0000,  0.0000],\n",
       "        [-0.7705, -1.6977,  0.0000,  0.0000,  0.0000,  0.0000],\n",
       "        [ 0.0000,  0.0000, -1.2726, -1.0366,  0.0000,  0.0000],\n",
       "        [ 0.0000,  0.0000, -0.3800, -1.0822,  0.0000,  0.0000],\n",
       "        [ 0.0000,  0.0000,  0.0000,  0.0000,  1.0107,  1.3600],\n",
       "        [ 0.0000,  0.0000,  0.0000,  0.0000, -0.1734,  0.6759]])"
      ]
     },
     "execution_count": 20,
     "metadata": {},
     "output_type": "execute_result"
    }
   ],
   "source": [
    "b"
   ]
  },
  {
   "cell_type": "code",
   "execution_count": null,
   "metadata": {},
   "outputs": [],
   "source": []
  }
 ],
 "metadata": {
  "interpreter": {
   "hash": "c9c202578f490e5901ccd2221f4cba94919fc3f93eeea92c9b9ef6ec12f8cf09"
  },
  "kernelspec": {
   "display_name": "Python 3.8.13 ('py38')",
   "language": "python",
   "name": "python3"
  },
  "language_info": {
   "codemirror_mode": {
    "name": "ipython",
    "version": 3
   },
   "file_extension": ".py",
   "mimetype": "text/x-python",
   "name": "python",
   "nbconvert_exporter": "python",
   "pygments_lexer": "ipython3",
   "version": "3.8.13"
  },
  "orig_nbformat": 4
 },
 "nbformat": 4,
 "nbformat_minor": 2
}
