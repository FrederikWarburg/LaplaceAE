{
 "cells": [
  {
   "cell_type": "code",
   "execution_count": 1,
   "metadata": {},
   "outputs": [
    {
     "name": "stderr",
     "output_type": "stream",
     "text": [
      "c:\\Users\\nsde\\Anaconda3\\envs\\laplace\\lib\\site-packages\\tqdm\\auto.py:22: TqdmWarning: IProgress not found. Please update jupyter and ipywidgets. See https://ipywidgets.readthedocs.io/en/stable/user_install.html\n",
      "  from .autonotebook import tqdm as notebook_tqdm\n"
     ]
    }
   ],
   "source": [
    "import torch\n",
    "from torch import nn\n",
    "from src.data import get_data\n",
    "from src.models import get_encoder, get_decoder\n",
    "from src.utils import softclip\n",
    "from src.hessian import sampler\n",
    "import yaml\n",
    "from copy import deepcopy\n",
    "from torch.nn.utils import parameters_to_vector, vector_to_parameters\n",
    "from sklearn.neighbors import KNeighborsClassifier\n",
    "from sklearn.model_selection import GridSearchCV\n",
    "import matplotlib.pyplot as plt\n",
    "import numpy as np\n",
    "import os\n",
    "\n",
    "\n",
    "def get_model(encoder, decoder):\n",
    "    \n",
    "    net = deepcopy(encoder.encoder._modules)\n",
    "    decoder = decoder.decoder._modules\n",
    "    max_ = max([int(i) for i in net.keys()])\n",
    "    for i in decoder.keys():\n",
    "        net.update({f\"{max_+int(i) + 1}\": decoder[i]})\n",
    "\n",
    "    return nn.Sequential(net)"
   ]
  },
  {
   "cell_type": "code",
   "execution_count": 2,
   "metadata": {},
   "outputs": [],
   "source": [
    "#path_ae = \"../weights/mnist/ae_[use_var_dec=False]\"\n",
    "path_ae = \"../weights/mnist/ae_[use_var_dec=False]/[no_conv_True]_[use_var_decoder_False]_\"\n",
    "with open(f\"{path_ae}/config.yaml\") as file:\n",
    "    config = yaml.full_load(file)\n",
    "ae_encoder = get_encoder(config, latent_size=2)\n",
    "ae_encoder.load_state_dict(torch.load(f\"{path_ae}/encoder.pth\"))\n",
    "\n",
    "\n",
    "path_mcae = \"../weights/mnist/mcdropout_ae\"\n",
    "with open(f\"{path_mcae}/config.yaml\") as file:\n",
    "    config = yaml.full_load(file)\n",
    "mcae_encoder = get_encoder(config, latent_size=2, dropout=config[\"dropout_rate\"])\n",
    "mcae_encoder.load_state_dict(torch.load(f\"{path_mcae}/encoder.pth\"))\n",
    "\n",
    "path_vae = \"../weights/mnist/vae_[use_var_dec=False]\"\n",
    "with open(f\"{path_vae}/config.yaml\") as file:\n",
    "    config = yaml.full_load(file)\n",
    "vae_encoder_mu = get_encoder(config, latent_size=2)\n",
    "vae_encoder_mu.load_state_dict(torch.load(f\"{path_vae}/mu_encoder.pth\"))\n",
    "vae_encoder_var = get_encoder(config, latent_size=2)\n",
    "vae_encoder_var.load_state_dict(torch.load(f\"{path_vae}/var_encoder.pth\"))\n",
    "\n",
    "#path_lae = \"../weights/mnist/lae_elbo/[backend_layer]_[approximation_exact]_[no_conv_True]_[train_samples_10]_/\"\n",
    "#path_lae = \"../weights/mnist/lae_elbo/[backend_layer]_[approximation_exact]_[no_conv_True]_[train_samples_1]_\"\n",
    "#path_lae=\"../weights/mnist/lae_model_selection_7_may/weights_mnist_model_selection/1[backend_layer]_[approximation_exact]_[no_conv_True]_[train_samples_1]_\"\n",
    "path_lae=\"../weights/mnist/lae_elbo/mem_0999_prior_prec_1_scale_1[backend_layer]_[approximation_exact]_[no_conv_True]_[train_samples_1]_\"\n",
    "with open(f\"{path_lae}/config.yaml\") as file:\n",
    "    config = yaml.full_load(file)\n",
    "lae_encoder = get_encoder(config, latent_size=2)\n",
    "lae_decoder = get_decoder(config, latent_size=2)\n",
    "lae_net = get_model(lae_encoder, lae_decoder).eval()\n",
    "lae_net.load_state_dict(torch.load(f\"{path_lae}/net.pth\"))\n",
    "hessian_approx = (\n",
    "    sampler.BlockSampler()\n",
    "    if config[\"approximation\"] == \"block\"\n",
    "    else sampler.DiagSampler()\n",
    ")\n",
    "h = torch.load(f\"{path_lae}/hessian.pth\")\n",
    "sigma_q = hessian_approx.invert(h).cpu()"
   ]
  },
  {
   "cell_type": "code",
   "execution_count": 3,
   "metadata": {},
   "outputs": [
    {
     "name": "stdout",
     "output_type": "stream",
     "text": [
      "torch.Size([50, 1, 28, 28])\n",
      "torch.Size([50])\n",
      "torch.Size([1000, 1, 28, 28])\n",
      "torch.Size([1000])\n"
     ]
    }
   ],
   "source": [
    "_, val_dataloader = get_data(\"mnist\")\n",
    "images, labels = [ ], [ ]\n",
    "\n",
    "for batch in val_dataloader:\n",
    "    x, y = batch\n",
    "    images.append(x)\n",
    "    labels.append(y)\n",
    "images = torch.cat(images, 0)\n",
    "labels = torch.cat(labels, 0)\n",
    "\n",
    "n_select = 5 # select this many datapoints from each class\n",
    "\n",
    "def get_dataset(n_select):\n",
    "    selected_images = torch.zeros(10*n_select, 1, 28, 28)\n",
    "    selected_labels = torch.zeros(10*n_select,)\n",
    "    eval_set_images = torch.zeros(images.shape[0]-10*n_select, 1, 28, 28)\n",
    "    eval_set_labels = torch.zeros(images.shape[0]-10*n_select, )\n",
    "\n",
    "    count = 0\n",
    "    for i in range(10):\n",
    "        idx = torch.where(labels == i)[0]\n",
    "        n = len(idx)\n",
    "        rand_idx = torch.randperm(n)\n",
    "\n",
    "        selected_images[i*n_select:(i+1)*n_select] = images[idx[rand_idx[:n_select]]]\n",
    "        selected_labels[i*n_select:(i+1)*n_select] = labels[idx[rand_idx[:n_select]]]\n",
    "        eval_set_images[count:count+len(rand_idx[n_select:])] = images[idx[rand_idx[n_select:]]]\n",
    "        eval_set_labels[count:count+len(rand_idx[n_select:])] = labels[idx[rand_idx[n_select:]]]\n",
    "\n",
    "        count += len(rand_idx[n_select:])\n",
    "    return selected_images, selected_labels, eval_set_images, eval_set_labels\n",
    "\n",
    "selected_images, selected_labels, eval_set_images, eval_set_labels = get_dataset(n_select)\n",
    "\n",
    "# just for testing purpose\n",
    "eval_set_images = eval_set_images[:1000]\n",
    "eval_set_labels = eval_set_labels[:1000]\n",
    "\n",
    "print(selected_images.shape)\n",
    "print(selected_labels.shape)\n",
    "print(eval_set_images.shape)\n",
    "print(eval_set_labels.shape)\n"
   ]
  },
  {
   "cell_type": "code",
   "execution_count": 4,
   "metadata": {},
   "outputs": [
    {
     "name": "stdout",
     "output_type": "stream",
     "text": [
      "standard ae\n",
      "tensor([[-2.3060, -3.9042]], grad_fn=<AddmmBackward>)\n",
      "monte-carlo ae\n",
      "tensor([[-1.8801,  2.9727],\n",
      "        [-1.6214,  3.0689]], grad_fn=<CatBackward>)\n",
      "vae\n",
      "tensor([[-1.9799, -0.8014],\n",
      "        [ 0.0094, -0.6918]], grad_fn=<CatBackward>)\n",
      "lae\n",
      "tensor([[0.8075, 1.2329],\n",
      "        [0.8481, 1.1159]])\n"
     ]
    }
   ],
   "source": [
    "def get_encoding_ae(data, n=1):\n",
    "    return ae_encoder(data)\n",
    "\n",
    "print('standard ae')\n",
    "print(get_encoding_ae(images[:1]))\n",
    "\n",
    "def get_encoding_mcae(data, n=1):\n",
    "    return torch.cat([mcae_encoder(data) for _ in range(n)], 0)\n",
    "\n",
    "print('monte-carlo ae')\n",
    "print(get_encoding_mcae(images[:1], n=2))\n",
    "\n",
    "def get_encoding_vae(data, n=1):\n",
    "    mu = vae_encoder_mu(data)\n",
    "    sigma = torch.exp(softclip(vae_encoder_var(data), min=-3))\n",
    "    return torch.cat([mu + torch.randn_like(sigma) * sigma for _ in range(n)])\n",
    "\n",
    "print('vae')\n",
    "print(get_encoding_vae(images[:1], n=2))\n",
    "\n",
    "def get_encoding_lae(data, n=1, layer=5):\n",
    "    embeddings = [ ]\n",
    "    def fw_hook_get_latent(module, input, output):\n",
    "        embeddings.append(output.detach().cpu())\n",
    "    temp = deepcopy(lae_net)\n",
    "    temp[layer].register_forward_hook(fw_hook_get_latent)\n",
    "\n",
    "    mu_q = parameters_to_vector(temp.parameters())\n",
    "    sample = hessian_approx.sample(mu_q, sigma_q, n_samples=n)\n",
    "    for i in range(n):\n",
    "        vector_to_parameters(sample[i], temp.parameters())\n",
    "        _ = temp(data)\n",
    "    return torch.cat(embeddings, 0)\n",
    "\n",
    "print('lae')\n",
    "print(get_encoding_lae(images[:1], n=2))\n",
    "\n",
    "def gen_encoding_lae5(data, n=1):\n",
    "    return get_encoding_lae(data, n=n, layer=5)\n",
    "\n",
    "def gen_encoding_lae3(data, n=1):\n",
    "    return get_encoding_lae(data, n=n, layer=3)\n",
    "\n",
    "def gen_encoding_lae7(data, n=1):\n",
    "    return get_encoding_lae(data, n=n, layer=7)\n",
    "\n"
   ]
  },
  {
   "cell_type": "code",
   "execution_count": 5,
   "metadata": {},
   "outputs": [],
   "source": [
    "with torch.inference_mode():\n",
    "    scale_factor = 100\n",
    "    names = ['ae', 'mcae', 'vae', 'lae']\n",
    "    label_size = [1, 2, 4, 6, 8, 10, 12, 14, 16, 18, 20]\n",
    "    reps = 5\n",
    "\n",
    "    res = np.zeros((reps, len(label_size), len(names)))\n",
    "    for r in range(reps):\n",
    "        for i, n_select in enumerate(label_size):\n",
    "            selected_images, selected_labels, eval_set_images, eval_set_labels = get_dataset(n_select)\n",
    "            for j, (name, encoder) in enumerate(zip(names, [get_encoding_ae, get_encoding_mcae, get_encoding_vae, get_encoding_lae])):\n",
    "                eval_data = torch.cat([encoder(d) for d in eval_set_images], 0)\n",
    "                train_data = torch.cat([encoder(d, scale_factor) for d in selected_images], 0)\n",
    "                train_labels = selected_labels.repeat_interleave(scale_factor) if name != 'ae' else selected_labels\n",
    "                if n_select < 2:\n",
    "                    classifier = KNeighborsClassifier(1)\n",
    "                else:\n",
    "                    classifier = GridSearchCV(\n",
    "                        KNeighborsClassifier(),\n",
    "                        {'n_neighbors': [1, 2, 3, 4, 5, 6, 7, 8, 9, 10]},\n",
    "                        cv=2,\n",
    "                        refit=True,\n",
    "                    )\n",
    "                classifier.fit(train_data.detach().numpy(), train_labels.detach().numpy())\n",
    "                preds = classifier.predict(eval_data.detach().numpy())\n",
    "                acc = (preds == eval_set_labels.numpy()).mean()\n",
    "                res[r,i,j] = acc"
   ]
  },
  {
   "cell_type": "code",
   "execution_count": 23,
   "metadata": {},
   "outputs": [
    {
     "data": {
      "text/plain": [
       "array([[0.26132265, 0.24008016, 0.09418838, 0.48196393],\n",
       "       [0.41526104, 0.42248996, 0.09216867, 0.51044177],\n",
       "       [0.49415323, 0.42379032, 0.09556452, 0.54959677],\n",
       "       [0.5111336 , 0.48319838, 0.098583  , 0.56842105],\n",
       "       [0.50772358, 0.46849593, 0.09512195, 0.56829268],\n",
       "       [0.54367347, 0.48571429, 0.09428571, 0.58795918],\n",
       "       [0.55655738, 0.50409836, 0.09590164, 0.60737705],\n",
       "       [0.57016461, 0.50761317, 0.09176955, 0.60884774],\n",
       "       [0.5964876 , 0.50103306, 0.09607438, 0.62231405],\n",
       "       [0.59315353, 0.51991701, 0.09564315, 0.6219917 ],\n",
       "       [0.5825    , 0.52541667, 0.09645833, 0.63104167]])"
      ]
     },
     "execution_count": 23,
     "metadata": {},
     "output_type": "execute_result"
    }
   ],
   "source": [
    "\n",
    "#res_mean = torch.cat(torch.min(res[:,:,:3], 0), torch.max(res[:,:,-1], 0))"
   ]
  },
  {
   "cell_type": "code",
   "execution_count": 24,
   "metadata": {},
   "outputs": [
    {
     "name": "stdout",
     "output_type": "stream",
     "text": [
      "(11, 4)\n"
     ]
    },
    {
     "data": {
      "image/png": "[encoded data removed]",
      "text/plain": [
       "<Figure size 720x720 with 1 Axes>"
      ]
     },
     "metadata": {
      "needs_background": "light"
     },
     "output_type": "display_data"
    }
   ],
   "source": [
    "#res_mean = res.mean(axis=0)\n",
    "res_mean = np.concatenate([res[:,:,:3].min(0), np.expand_dims(res[:,:,-4].max(0), -1)], -1)\n",
    "res_std = res.std(axis=0)\n",
    "print(res_mean.shape)\n",
    "\n",
    "fig = plt.figure(figsize=(10,10))\n",
    "plt.plot(label_size, res_mean[:,0], label='AE')\n",
    "plt.fill_between(label_size, res_mean[:,0] + res_std[:,0], res_mean[:,0] - res_std[:,0], alpha=0.2)\n",
    "plt.plot(label_size, res_mean[:,1], label='MCAE')\n",
    "plt.fill_between(label_size, res_mean[:,1] + res_std[:,1], res_mean[:,1] - res_std[:,1], alpha=0.2)\n",
    "plt.plot(label_size, res_mean[:,2], label='VAE')\n",
    "plt.fill_between(label_size, res_mean[:,2] + res_std[:,2], res_mean[:,2] - res_std[:,2], alpha=0.2)\n",
    "plt.plot(label_size, res_mean[:,3], label='LAE')\n",
    "plt.fill_between(label_size, res_mean[:,3] + res_std[:,3], res_mean[:,3] - res_std[:,3], alpha=0.2)\n",
    "plt.legend(fontsize=20)\n",
    "plt.ylabel('Accuracy', fontsize=20)\n",
    "plt.xlabel('Number of labels per class', fontsize=20)\n",
    "plt.savefig('results.png')"
   ]
  },
  {
   "cell_type": "code",
   "execution_count": 30,
   "metadata": {},
   "outputs": [
    {
     "name": "stderr",
     "output_type": "stream",
     "text": [
      "C:\\Users\\nsde\\Anaconda3\\envs\\laplace\\lib\\site-packages\\torch\\functional.py:445: UserWarning: torch.meshgrid: in an upcoming release, it will be required to pass the indexing argument. (Triggered internally at  ..\\aten\\src\\ATen\\native\\TensorShape.cpp:2157.)\n",
      "  return _VF.meshgrid(tensors, **kwargs)  # type: ignore[attr-defined]\n"
     ]
    },
    {
     "ename": "NameError",
     "evalue": "name 'get_encoding_ae' is not defined",
     "output_type": "error",
     "traceback": [
      "\u001b[1;31m---------------------------------------------------------------------------\u001b[0m",
      "\u001b[1;31mNameError\u001b[0m                                 Traceback (most recent call last)",
      "\u001b[1;32mc:\\Users\\nsde\\Documents\\LaplaceAE\\notebooks\\semi.ipynb Cell 5'\u001b[0m in \u001b[0;36m<cell line: 9>\u001b[1;34m()\u001b[0m\n\u001b[0;32m      <a href='vscode-notebook-cell:/c%3A/Users/nsde/Documents/LaplaceAE/notebooks/semi.ipynb#ch0000004?line=6'>7</a>\u001b[0m res_mean, res_std \u001b[39m=\u001b[39m [], []\n\u001b[0;32m      <a href='vscode-notebook-cell:/c%3A/Users/nsde/Documents/LaplaceAE/notebooks/semi.ipynb#ch0000004?line=7'>8</a>\u001b[0m reps \u001b[39m=\u001b[39m \u001b[39m3\u001b[39m\n\u001b[1;32m----> <a href='vscode-notebook-cell:/c%3A/Users/nsde/Documents/LaplaceAE/notebooks/semi.ipynb#ch0000004?line=8'>9</a>\u001b[0m \u001b[39mfor\u001b[39;00m i, (name, encoder) \u001b[39min\u001b[39;00m \u001b[39menumerate\u001b[39m(\u001b[39mzip\u001b[39m(names, [get_encoding_ae, get_encoding_mcae, get_encoding_vae, get_encoding_lae])):\n\u001b[0;32m     <a href='vscode-notebook-cell:/c%3A/Users/nsde/Documents/LaplaceAE/notebooks/semi.ipynb#ch0000004?line=9'>10</a>\u001b[0m     eval_data \u001b[39m=\u001b[39m torch\u001b[39m.\u001b[39mcat([encoder(d) \u001b[39mfor\u001b[39;00m d \u001b[39min\u001b[39;00m eval_set_images], \u001b[39m0\u001b[39m)\n\u001b[0;32m     <a href='vscode-notebook-cell:/c%3A/Users/nsde/Documents/LaplaceAE/notebooks/semi.ipynb#ch0000004?line=10'>11</a>\u001b[0m     res_mean\u001b[39m.\u001b[39mappend([ ])\n",
      "\u001b[1;31mNameError\u001b[0m: name 'get_encoding_ae' is not defined"
     ]
    }
   ],
   "source": [
    "z_grid = torch.meshgrid([torch.linspace(-20, 20, 200), torch.linspace(-20, 20, 200)])\n",
    "z_grid = torch.stack(z_grid, 0).reshape(2, -1).T\n",
    "\n",
    "names = ['ae', 'mcae', 'vae', 'lae']\n",
    "scales = [1, 2, 5, 10, 20]\n",
    "fig, ax = plt.subplots(4, len(scales), figsize=(20, 10))\n",
    "res_mean, res_std = [], []\n",
    "reps = 5\n",
    "for i, (name, encoder) in enumerate(zip(names, [get_encoding_ae, get_encoding_mcae, get_encoding_vae, get_encoding_lae])):\n",
    "    eval_data = torch.cat([encoder(d) for d in eval_set_images], 0)\n",
    "    res_mean.append([ ])\n",
    "    res_std.append([ ])\n",
    "    for j, s in enumerate(scales):\n",
    "        print(encoder, s)\n",
    "        res = [ ]\n",
    "        for r in range(reps):\n",
    "            train_data = torch.cat([encoder(d, s) for d in selected_images], 0)\n",
    "            train_labels = selected_labels.repeat_interleave(s) if name != 'ae' else selected_labels\n",
    "            #classifier = KNeighborsClassifier(n_neighbors=2)\n",
    "            classifier = GridSearchCV(\n",
    "                KNeighborsClassifier(),\n",
    "                {'n_neighbors': [2, 3, 4, 5, 6, 7, 8, 9, 10]},\n",
    "                cv=3,\n",
    "                refit=True,\n",
    "            )\n",
    "            classifier.fit(train_data.detach().numpy(), train_labels.detach().numpy())\n",
    "            preds = classifier.predict(eval_data.detach().numpy())\n",
    "            acc = (preds == eval_set_labels.numpy()).mean()\n",
    "            res.append(acc)\n",
    "\n",
    "        res_mean[-1].append(np.mean(res))\n",
    "        res_std[-1].append(np.std(res))\n",
    "\n",
    "        preds_grid = classifier.predict(z_grid.numpy())\n",
    "        ax[i, j].contourf(\n",
    "            z_grid[:,0].reshape(100, 100),\n",
    "            z_grid[:,1].reshape(100, 100),\n",
    "            preds_grid.reshape(100, 100)\n",
    "            alpha=0.1\n",
    "        )\n",
    "        ax[i, j].scatter(eval_data[:,0], eval_data[:, 1], c=eval_set_labels)\n",
    "res_mean = np.asarray(res_mean)\n",
    "res_std = np.asarray(res_std)"
   ]
  },
  {
   "cell_type": "code",
   "execution_count": 42,
   "metadata": {},
   "outputs": [
    {
     "data": {
      "text/plain": [
       "<matplotlib.legend.Legend at 0x1c6d0a98250>"
      ]
     },
     "execution_count": 42,
     "metadata": {},
     "output_type": "execute_result"
    },
    {
     "data": {
      "image/png": "[encoded data removed]",
      "text/plain": [
       "<Figure size 432x288 with 1 Axes>"
      ]
     },
     "metadata": {
      "needs_background": "light"
     },
     "output_type": "display_data"
    }
   ],
   "source": [
    "fig = plt.figure()\n",
    "for i, name in enumerate(names):\n",
    "    plt.plot(scales, res_mean[i], label=name)\n",
    "    plt.fill_between(scales, res_mean[i] + res_std[i], res_mean[i] - res_std[i], alpha=0.5)\n",
    "\n",
    "plt.legend()"
   ]
  },
  {
   "cell_type": "code",
   "execution_count": 34,
   "metadata": {},
   "outputs": [
    {
     "name": "stdout",
     "output_type": "stream",
     "text": [
      "[[0.7353333333333333, 0.7303333333333333, 0.811, 0.819, 0.8053333333333335], [0.8436666666666667, 0.8450000000000001, 0.8583333333333333, 0.8196666666666665, 0.8113333333333334], [0.8850000000000001, 0.8403333333333333, 0.8373333333333334, 0.8096666666666666, 0.8103333333333333], [0.9053333333333334, 0.9166666666666666, 0.9136666666666667, 0.8636666666666667, 0.88], [0.859, 0.757, 0.8559999999999999, 0.8553333333333333, 0.8396666666666667]]\n",
      "[[0.07352248333370928, 0.0634577724860311, 0.007118052168020829, 0.007788880963698574, 0.00368178700572909], [0.039684869772860384, 0.024711670657134206, 0.007845734863959886, 0.006548960901462796, 0.00464279609239466], [0.010801234497346443, 0.01405544576153869, 0.016213848676020427, 0.037809463835864615, 0.00543650214343333], [0.022216110270602198, 0.0026246692913372725, 0.0024944382578492965, 0.017133463034528545, 0.02177154105707726], [0.029631064780058135, 0.052198339692624954, 0.018493242008906945, 0.008993825042154702, 0.004496912521077351]]\n"
     ]
    }
   ],
   "source": [
    "res_m, res_s = [ ], [ ]\n",
    "base_path = \"..\\weights\\mnist\\lae_model_selection_7_may\\weights_mnist_model_selection\"\n",
    "for folder in os.listdir(base_path):\n",
    "    res_m.append([ ])\n",
    "    res_s.append([ ])\n",
    "    with open(f\"{base_path}/{folder}/config.yaml\") as file:\n",
    "        config = yaml.full_load(file)\n",
    "    lae_encoder = get_encoder(config, latent_size=2)\n",
    "    lae_decoder = get_decoder(config, latent_size=2)\n",
    "    lae_net = get_model(lae_encoder, lae_decoder).eval()\n",
    "    lae_net.load_state_dict(torch.load(f\"{base_path}/{folder}/net.pth\"))\n",
    "    hessian_approx = (\n",
    "        sampler.BlockSampler()\n",
    "        if config[\"approximation\"] == \"block\"\n",
    "        else sampler.DiagSampler()\n",
    "    )\n",
    "    h = torch.load(f\"{base_path}/{folder}/hessian.pth\")\n",
    "    sigma_q = hessian_approx.invert(h).cpu()\n",
    "\n",
    "    def get_encoding_lae(data, n=1, layer=5):\n",
    "        embeddings = [ ]\n",
    "        def fw_hook_get_latent(module, input, output):\n",
    "            embeddings.append(output.detach().cpu())\n",
    "        temp = deepcopy(lae_net)\n",
    "        temp[layer].register_forward_hook(fw_hook_get_latent)\n",
    "\n",
    "        mu_q = parameters_to_vector(temp.parameters())\n",
    "        sample = hessian_approx.sample(mu_q, sigma_q, n_samples=n)\n",
    "        for i in range(n):\n",
    "            vector_to_parameters(sample[i], temp.parameters())\n",
    "            _ = temp(data)\n",
    "        return torch.cat(embeddings, 0)\n",
    "\n",
    "    eval_data = torch.cat([get_encoding_lae(d.unsqueeze(0)) for d in eval_set_images], 0)\n",
    "    for s in [1, 2, 5, 10, 20]:\n",
    "        res = [ ]\n",
    "        for r in range(3):\n",
    "            train_data = torch.cat([get_encoding_lae(d.unsqueeze(0), s) for d in selected_images], 0)\n",
    "            train_labels = selected_labels.repeat_interleave(s)\n",
    "            classifier = GridSearchCV(\n",
    "                KNeighborsClassifier(),\n",
    "                {'n_neighbors': [2, 3, 4, 5, 6, 7, 8, 9, 10]},\n",
    "                cv=2,\n",
    "                refit=True,\n",
    "            )\n",
    "            classifier.fit(train_data.detach().numpy(), train_labels.detach().numpy())\n",
    "            preds = classifier.predict(eval_data.detach().numpy())\n",
    "            acc = (preds == eval_set_labels.numpy()).mean()\n",
    "            res.append(acc)\n",
    "        res_m[-1].append(np.mean(res))\n",
    "        res_s[-1].append(np.std(res))\n",
    "\n",
    "print(res_m)\n",
    "print(res_s)\n"
   ]
  },
  {
   "cell_type": "code",
   "execution_count": 27,
   "metadata": {},
   "outputs": [
    {
     "data": {
      "text/plain": [
       "tensor([[1.2062, 0.6500],\n",
       "        [1.2406, 0.7277],\n",
       "        [1.2293, 0.7060],\n",
       "        [1.1829, 0.6542],\n",
       "        [1.2076, 0.6943],\n",
       "        [1.2203, 0.7586],\n",
       "        [1.1422, 0.6292],\n",
       "        [1.1810, 0.7095],\n",
       "        [1.1409, 0.7560],\n",
       "        [1.2680, 0.6393]])"
      ]
     },
     "execution_count": 27,
     "metadata": {},
     "output_type": "execute_result"
    }
   ],
   "source": [
    "get_encoding_lae(selected_images[0].unsqueeze(0), s)"
   ]
  },
  {
   "cell_type": "code",
   "execution_count": 26,
   "metadata": {},
   "outputs": [
    {
     "data": {
      "text/plain": [
       "(5, 11, 4)"
      ]
     },
     "execution_count": 26,
     "metadata": {},
     "output_type": "execute_result"
    }
   ],
   "source": [
    "res2 = np.load('important_stuff.npy')\n",
    "res2.shape"
   ]
  },
  {
   "cell_type": "code",
   "execution_count": null,
   "metadata": {},
   "outputs": [],
   "source": []
  }
 ],
 "metadata": {
  "interpreter": {
   "hash": "06eb188f80c73fa6401bc2353cb283ae3bb523fbce23a94b0a24eb0ce551d284"
  },
  "kernelspec": {
   "display_name": "Python 3.9.12 ('laplace')",
   "language": "python",
   "name": "python3"
  },
  "language_info": {
   "codemirror_mode": {
    "name": "ipython",
    "version": 3
   },
   "file_extension": ".py",
   "mimetype": "text/x-python",
   "name": "python",
   "nbconvert_exporter": "python",
   "pygments_lexer": "ipython3",
   "version": "3.9.12"
  },
  "orig_nbformat": 4
 },
 "nbformat": 4,
 "nbformat_minor": 2
}
