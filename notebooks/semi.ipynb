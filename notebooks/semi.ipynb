{
 "cells": [
  {
   "cell_type": "code",
   "execution_count": null,
   "metadata": {},
   "outputs": [],
   "source": [
    "import torch"
   ]
  },
  {
   "cell_type": "code",
   "execution_count": null,
   "metadata": {},
   "outputs": [],
   "source": [
    "from src.trainer_ae import LitAutoEncoder\n",
    "from src.trainer_lae_elbo import LitLaplaceAutoEncoder\n",
    "from src.trainer_vae import LitVariationalAutoEncoder\n",
    "\n",
    "path_ae = \n",
    "path_lae = \n",
    "path_vae = \n",
    "\n",
    "ae = LitAutoEncoder()\n",
    "\n",
    "ae_state = torch.load('weights/...')\n",
    "\n",
    "\n"
   ]
  }
 ],
 "metadata": {
  "language_info": {
   "name": "python"
  },
  "orig_nbformat": 4
 },
 "nbformat": 4,
 "nbformat_minor": 2
}
