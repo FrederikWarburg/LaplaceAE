{
 "cells": [
  {
   "cell_type": "code",
   "execution_count": 1,
   "metadata": {},
   "outputs": [],
   "source": [
    "import torch\n",
    "from torch import nn\n",
    "from torch.utils.data import DataLoader, TensorDataset\n",
    "import sys"
   ]
  },
  {
   "cell_type": "code",
   "execution_count": 2,
   "metadata": {},
   "outputs": [],
   "source": [
    "def get_model(channels, device):\n",
    "\n",
    "    model = nn.Sequential(*[\n",
    "        nn.Conv2d(channels, 8, 3, stride=1, padding=1, bias=None),\n",
    "        nn.Tanh(),\n",
    "        nn.Conv2d(8, 12, 3, stride=2, padding=1, bias=None),\n",
    "        nn.Tanh(),\n",
    "        #nn.Conv2d(12, 12, 3, stride=1, padding=1, bias=None),\n",
    "        #nn.Tanh(),\n",
    "        nn.ConvTranspose2d(12, 12, 3, stride=2, padding=1, bias=None),\n",
    "        nn.Tanh(),\n",
    "        #nn.Conv2d(12, 8, 3, stride=1, padding=1, bias=None),\n",
    "        #nn.Tanh(),\n",
    "        nn.Conv2d(8, channels, 3, stride=1, padding=1, bias=None),\n",
    "        nn.Flatten(),\n",
    "        ]\n",
    "    )\n",
    "    return model.to(device)"
   ]
  },
  {
   "cell_type": "code",
   "execution_count": 3,
   "metadata": {},
   "outputs": [],
   "source": [
    "from abc import abstractmethod\n",
    "from builtins import breakpoint\n",
    "from multiprocessing import reduction\n",
    "\n",
    "import torch\n",
    "import sys\n",
    "\n",
    "sys.path.append(\"../../backpack\")\n",
    "\n",
    "from backpack import backpack, extend, memory_cleanup\n",
    "from backpack.extensions import (\n",
    "    DiagGGNExact,\n",
    "    DiagGGNMC,\n",
    "    KFAC,\n",
    "    KFLR,\n",
    "    SumGradSquared,\n",
    "    BatchGrad,\n",
    ")\n",
    "from backpack.context import CTX\n",
    "\n",
    "\n",
    "class HessianCalculator:\n",
    "    def __init__(self):\n",
    "        super(HessianCalculator, self).__init__()\n",
    "        self.device = \"cuda:0\" if torch.cuda.is_available() else \"cpu\"\n",
    "\n",
    "    @abstractmethod\n",
    "    def compute_batch(self, *args, **kwargs):\n",
    "        pass\n",
    "\n",
    "    def compute(self, loader):\n",
    "        hessian = None\n",
    "        for batch in loader:\n",
    "            Hs = self.compute_batch(*batch)\n",
    "            if hessian is None:\n",
    "                hessian = Hs\n",
    "            else:\n",
    "                hessian += Hs\n",
    "        return hessian.to(\"cpu\")\n",
    "\n",
    "\n",
    "class MseHessianCalculator(HessianCalculator):\n",
    "    def __init__(self, model = None):\n",
    "        super(MseHessianCalculator, self).__init__()\n",
    "        self.factor = 0.5  # for regression\n",
    "        self.stochastic = False\n",
    "        self.context = DiagGGNMC if self.stochastic else DiagGGNExact\n",
    "        self.lossfunc = torch.nn.MSELoss(reduction=\"sum\")\n",
    "        self.lossfunc = extend(self.lossfunc)\n",
    "        if model is not None:\n",
    "            self.model = extend(model)\n",
    "\n",
    "    def compute_batch(self, x, *args, **kwargs):\n",
    "        x = x.to(self.device)\n",
    "        loss, dggn = self.diag(x, x)\n",
    "\n",
    "        return dggn\n",
    "\n",
    "    def __call__(self, net, feature_maps, X, **kwargs):\n",
    "        b = X.shape[0]\n",
    "        y_hat = net(X)\n",
    "        loss = self.lossfunc(y_hat.view(b, -1), X.view(b, -1))\n",
    "        with backpack(self.context()):\n",
    "            loss.backward()\n",
    "        loss = loss.detach()\n",
    "        return self.factor * self._get_diag_ggn(net).detach()\n",
    "\n",
    "    def diag(self, X, y, **kwargs):\n",
    "        b = X.shape[0]\n",
    "\n",
    "        f = self.model(X)\n",
    "        loss = self.lossfunc(f.view(b, -1), y.view(b, -1))\n",
    "        with backpack(self.context()):\n",
    "            loss.backward()\n",
    "        dggn = self._get_diag_ggn(self.model)\n",
    "\n",
    "        return self.factor * loss.detach(), self.factor * dggn\n",
    "\n",
    "    def _get_diag_ggn(self, model):\n",
    "        if self.stochastic:\n",
    "            return torch.cat([p.diag_ggn_mc.data.flatten() for p in model.parameters()])\n",
    "        else:\n",
    "            return torch.cat(\n",
    "                [p.diag_ggn_exact.data.flatten() for p in model.parameters()]\n",
    "            )\n"
   ]
  },
  {
   "cell_type": "code",
   "execution_count": 4,
   "metadata": {},
   "outputs": [],
   "source": [
    "num_observations = 1000\n",
    "channels = 2\n",
    "data_size = 8\n",
    "\n",
    "torch.manual_seed(42)\n",
    "device = \"cuda:0\" if torch.cuda.is_available() else \"cpu\"\n",
    "X = torch.rand((num_observations, channels, data_size, data_size)).float()\n",
    "dataset = TensorDataset(X, X)\n",
    "dataloader = DataLoader(dataset, batch_size=32)\n",
    "\n",
    "model = get_model(channels, device)\n",
    "\n",
    "Hs_backpack = MseHessianCalculator(model).compute(dataloader)"
   ]
  },
  {
   "cell_type": "code",
   "execution_count": 5,
   "metadata": {},
   "outputs": [
    {
     "data": {
      "text/plain": [
       "tensor([ 13.7838,  12.6826,  11.9343,  ..., 326.7171, 334.3246, 300.7863])"
      ]
     },
     "execution_count": 5,
     "metadata": {},
     "output_type": "execute_result"
    }
   ],
   "source": [
    "Hs_backpack"
   ]
  },
  {
   "cell_type": "code",
   "execution_count": null,
   "metadata": {},
   "outputs": [],
   "source": []
  }
 ],
 "metadata": {
  "interpreter": {
   "hash": "5e16edc4df7b202951e9e3c113e27071ab15724ce07cdee44fb794505e05de3d"
  },
  "kernelspec": {
   "display_name": "Python 3.8.5 ('pytorch')",
   "language": "python",
   "name": "python3"
  },
  "language_info": {
   "codemirror_mode": {
    "name": "ipython",
    "version": 3
   },
   "file_extension": ".py",
   "mimetype": "text/x-python",
   "name": "python",
   "nbconvert_exporter": "python",
   "pygments_lexer": "ipython3",
   "version": "3.8.5"
  },
  "orig_nbformat": 4
 },
 "nbformat": 4,
 "nbformat_minor": 2
}
