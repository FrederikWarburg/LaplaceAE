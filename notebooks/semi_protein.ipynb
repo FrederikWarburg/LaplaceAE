{
 "cells": [
  {
   "cell_type": "code",
   "execution_count": 1,
   "metadata": {},
   "outputs": [
    {
     "name": "stderr",
     "output_type": "stream",
     "text": [
      "/home/nsde/anaconda3/envs/laplace/lib/python3.9/site-packages/tqdm/auto.py:22: TqdmWarning: IProgress not found. Please update jupyter and ipywidgets. See https://ipywidgets.readthedocs.io/en/stable/user_install.html\n",
      "  from .autonotebook import tqdm as notebook_tqdm\n"
     ]
    }
   ],
   "source": [
    "import torch\n",
    "from torch import nn\n",
    "from src.data import get_data\n",
    "from src.models import get_encoder, get_decoder\n",
    "from src.utils import softclip\n",
    "from src.trainer_lae_elbo import LitLaplaceAutoEncoder\n",
    "from src.hessian import sampler\n",
    "import yaml\n",
    "from copy import deepcopy\n",
    "from torch.nn.utils import parameters_to_vector, vector_to_parameters\n",
    "\n",
    "def get_model(encoder, decoder):\n",
    "    \n",
    "    net = deepcopy(encoder.encoder._modules)\n",
    "    decoder = decoder.decoder._modules\n",
    "    max_ = max([int(i) for i in net.keys()])\n",
    "    for i in decoder.keys():\n",
    "        net.update({f\"{max_+int(i) + 1}\": decoder[i]})\n",
    "\n",
    "    return nn.Sequential(net)"
   ]
  },
  {
   "cell_type": "code",
   "execution_count": 2,
   "metadata": {},
   "outputs": [],
   "source": [
    "path_ae = \"../weights/protein/ae_[use_var_dec=False]/[no_conv_True]_[use_var_decoder_False]_\"\n",
    "with open(f\"{path_ae}/config.yaml\") as file:\n",
    "    config = yaml.full_load(file)\n",
    "ae_encoder = get_encoder(config, latent_size=2)\n",
    "ae_encoder.load_state_dict(torch.load(f\"{path_ae}/encoder.pth\"))\n",
    "\n",
    "\n",
    "path_mcae = \"../weights/protein/mcdropout_ae/[no_conv_True]_[dropout_rate_0.2]_[use_var_decoder_False]_\"\n",
    "with open(f\"{path_mcae}/config.yaml\") as file:\n",
    "    config = yaml.full_load(file)\n",
    "mcae_encoder = get_encoder(config, latent_size=2, dropout=config[\"dropout_rate\"])\n",
    "mcae_encoder.load_state_dict(torch.load(f\"{path_mcae}/encoder.pth\"))\n",
    "\n",
    "path_vae = \"../weights/protein/vae_[use_var_dec=False]/[no_conv_True]_[use_var_decoder_False]_\"\n",
    "with open(f\"{path_vae}/config.yaml\") as file:\n",
    "    config = yaml.full_load(file)\n",
    "vae_encoder_mu = get_encoder(config, latent_size=2)\n",
    "vae_encoder_mu.load_state_dict(torch.load(f\"{path_vae}/mu_encoder.pth\"))\n",
    "vae_encoder_var = get_encoder(config, latent_size=2)\n",
    "vae_encoder_var.load_state_dict(torch.load(f\"{path_vae}/var_encoder.pth\"))\n",
    "\n",
    "#path_lae = \"../weights/mnist/lae_elbo/[backend_layer]_[approximation_exact]_[no_conv_True]_[train_samples_10]_/\"\n",
    "path_lae = '../epoch=58-step=375948.ckpt'\n",
    "model = LitLaplaceAutoEncoder.load_from_checkpoint(path_lae, dataset_size=1)\n",
    "# lae_encoder = model.encoder # get_encoder(model.config, latent_size=2)\n",
    "# lae_decoder = model.decoder # get_decoder(config, latent_size=2)\n",
    "lae_net = model.net.eval() # get_model(lae_encoder, lae_decoder).eval()\n",
    "hessian_approx = sampler.DiagSampler()\n",
    "h = model.hessian # torch.load(f\"{path_lae}/hessian.pth\")\n",
    "sigma_q = hessian_approx.invert(h).cpu()"
   ]
  },
  {
   "cell_type": "code",
   "execution_count": 3,
   "metadata": {},
   "outputs": [
    {
     "name": "stdout",
     "output_type": "stream",
     "text": [
      "torch.Size([10, 2592, 24])\n",
      "torch.Size([10])\n",
      "torch.Size([342, 2592, 24])\n",
      "torch.Size([342, 2592, 24])\n"
     ]
    }
   ],
   "source": [
    "_, val_dataloader = get_data(\"protein\")\n",
    "proteins, labels = [ ], [ ]\n",
    "\n",
    "for batch_idx, batch in enumerate(val_dataloader):\n",
    "    if batch_idx > 10:\n",
    "        break\n",
    "    x, y = batch\n",
    "    proteins.append(x)\n",
    "    labels.append(y)\n",
    "proteins = torch.cat(proteins, 0)\n",
    "labels = torch.cat(labels, 0)\n",
    "\n",
    "n_select = 1 # select this many datapoints from each class\n",
    "\n",
    "selected_datapoints = proteins[:10]\n",
    "selected_labels = labels[:10]\n",
    "eval_set_datapoints = proteins[10:]\n",
    "eval_set_labels = proteins[10:]\n",
    "\n",
    "# #def select_data(n_select):\n",
    "# selected_datapoints = torch.zeros(10*n_select, 2592, 24)\n",
    "# selected_labels = torch.zeros(10*n_select,)\n",
    "# eval_set_datapoints = torch.zeros(proteins.shape[0]-10*n_select, 2592, 24)\n",
    "# eval_set_labels = torch.zeros(proteins.shape[0]-10*n_select, )\n",
    "\n",
    "# count = 0\n",
    "# for i in torch.unique(labels):\n",
    "#     idx = torch.where(labels == i)[0]\n",
    "#     n = len(idx)\n",
    "#     rand_idx = torch.randperm(n)\n",
    "\n",
    "#     selected_datapoints[i*n_select:(i+1)*n_select] = proteins[idx[rand_idx[:n_select]]]\n",
    "#     selected_labels[i*n_select:(i+1)*n_select] = labels[idx[rand_idx[:n_select]]]\n",
    "#     eval_set_datapoints[count:count+len(rand_idx[n_select:])] = proteins[idx[rand_idx[n_select:]]]\n",
    "#     eval_set_labels[count:count+len(rand_idx[n_select:])] = labels[idx[rand_idx[n_select:]]]\n",
    "\n",
    "#     count += len(rand_idx[n_select:])\n",
    "    \n",
    "# #    return selected_datapoints, selected_labels, eval_set_datapoints, eval_set_labels\n",
    "\n",
    "# #selected_datapoints, selected_labels, eval_set_datapoints, eval_set_labels = select_data(5)\n",
    "\n",
    "print(selected_datapoints.shape)\n",
    "print(selected_labels.shape)\n",
    "print(eval_set_datapoints.shape)\n",
    "print(eval_set_labels.shape)\n",
    "\n"
   ]
  },
  {
   "cell_type": "code",
   "execution_count": 6,
   "metadata": {},
   "outputs": [
    {
     "name": "stdout",
     "output_type": "stream",
     "text": [
      "standard ae\n",
      "tensor([[12.7011,  0.1042]], grad_fn=<AddmmBackward0>)\n",
      "monte-carlo ae\n",
      "tensor([[-0.3454,  0.4840],\n",
      "        [-0.3454,  0.4840]], grad_fn=<CatBackward0>)\n",
      "vae\n",
      "tensor([[ 0.9825,  0.4265],\n",
      "        [-2.1443, -0.9940]], grad_fn=<CatBackward0>)\n",
      "lae\n",
      "tensor([[ 31.0924, -20.6664],\n",
      "        [ 46.9755, -25.2620]])\n"
     ]
    }
   ],
   "source": [
    "def get_encoding_ae(data, n=1):\n",
    "    return ae_encoder(data)\n",
    "\n",
    "print('standard ae')\n",
    "print(get_encoding_ae(selected_datapoints[:1]))\n",
    "\n",
    "def get_encoding_mcae(data, n=1):\n",
    "    return torch.cat([mcae_encoder(data) for _ in range(n)], 0)\n",
    "\n",
    "print('monte-carlo ae')\n",
    "print(get_encoding_mcae(selected_datapoints[:1], n=2))\n",
    "\n",
    "def get_encoding_vae(data, n=1):\n",
    "    mu = vae_encoder_mu(data)\n",
    "    sigma = torch.exp(softclip(vae_encoder_var(data), min=-3))\n",
    "    return torch.cat([mu + torch.randn_like(sigma) * sigma for _ in range(n)])\n",
    "\n",
    "print('vae')\n",
    "print(get_encoding_vae(selected_datapoints[:1], n=2))\n",
    "\n",
    "def get_encoding_lae(data, n=1):\n",
    "    embeddings = [ ]\n",
    "    def fw_hook_get_latent(module, input, output):\n",
    "        embeddings.append(output.detach().cpu())\n",
    "    temp = deepcopy(lae_net)\n",
    "    temp[7].register_forward_hook(fw_hook_get_latent)\n",
    "\n",
    "    mu_q = parameters_to_vector(temp.parameters())\n",
    "    sample = hessian_approx.sample(mu_q, sigma_q, n_samples=n)\n",
    "    for i in range(n):\n",
    "        vector_to_parameters(sample[i], temp.parameters())\n",
    "        _ = temp(data)\n",
    "    return torch.cat(embeddings, 0)\n",
    "\n",
    "print('lae')\n",
    "print(get_encoding_lae(selected_datapoints[:1], n=2))"
   ]
  },
  {
   "cell_type": "code",
   "execution_count": 7,
   "metadata": {},
   "outputs": [
    {
     "name": "stderr",
     "output_type": "stream",
     "text": [
      "/home/nsde/anaconda3/envs/laplace/lib/python3.9/site-packages/torch/functional.py:445: UserWarning: torch.meshgrid: in an upcoming release, it will be required to pass the indexing argument. (Triggered internally at  /opt/conda/conda-bld/pytorch_1639180549130/work/aten/src/ATen/native/TensorShape.cpp:2157.)\n",
      "  return _VF.meshgrid(tensors, **kwargs)  # type: ignore[attr-defined]\n"
     ]
    },
    {
     "ename": "RuntimeError",
     "evalue": "mat1 and mat2 shapes cannot be multiplied (2592x24 and 62208x1000)",
     "output_type": "error",
     "traceback": [
      "\u001b[0;31m---------------------------------------------------------------------------\u001b[0m",
      "\u001b[0;31mRuntimeError\u001b[0m                              Traceback (most recent call last)",
      "\u001b[1;32m/home/nsde/Documents/LaplaceAE/notebooks/semi_protein.ipynb Cell 1'\u001b[0m in \u001b[0;36m<cell line: 14>\u001b[0;34m()\u001b[0m\n\u001b[1;32m     <a href='vscode-notebook-cell:/home/nsde/Documents/LaplaceAE/notebooks/semi_protein.ipynb#ch0000000?line=12'>13</a>\u001b[0m reps \u001b[39m=\u001b[39m \u001b[39m2\u001b[39m\n\u001b[1;32m     <a href='vscode-notebook-cell:/home/nsde/Documents/LaplaceAE/notebooks/semi_protein.ipynb#ch0000000?line=13'>14</a>\u001b[0m \u001b[39mfor\u001b[39;00m i, (name, encoder) \u001b[39min\u001b[39;00m \u001b[39menumerate\u001b[39m(\u001b[39mzip\u001b[39m(names, [get_encoding_ae, get_encoding_mcae, get_encoding_vae, get_encoding_lae])):\n\u001b[0;32m---> <a href='vscode-notebook-cell:/home/nsde/Documents/LaplaceAE/notebooks/semi_protein.ipynb#ch0000000?line=14'>15</a>\u001b[0m     eval_data \u001b[39m=\u001b[39m torch\u001b[39m.\u001b[39mcat([encoder(d) \u001b[39mfor\u001b[39;00m d \u001b[39min\u001b[39;00m eval_set_datapoints], \u001b[39m0\u001b[39m)\n\u001b[1;32m     <a href='vscode-notebook-cell:/home/nsde/Documents/LaplaceAE/notebooks/semi_protein.ipynb#ch0000000?line=15'>16</a>\u001b[0m     res_mean\u001b[39m.\u001b[39mappend([ ])\n\u001b[1;32m     <a href='vscode-notebook-cell:/home/nsde/Documents/LaplaceAE/notebooks/semi_protein.ipynb#ch0000000?line=16'>17</a>\u001b[0m     res_std\u001b[39m.\u001b[39mappend([ ])\n",
      "\u001b[1;32m/home/nsde/Documents/LaplaceAE/notebooks/semi_protein.ipynb Cell 1'\u001b[0m in \u001b[0;36m<listcomp>\u001b[0;34m(.0)\u001b[0m\n\u001b[1;32m     <a href='vscode-notebook-cell:/home/nsde/Documents/LaplaceAE/notebooks/semi_protein.ipynb#ch0000000?line=12'>13</a>\u001b[0m reps \u001b[39m=\u001b[39m \u001b[39m2\u001b[39m\n\u001b[1;32m     <a href='vscode-notebook-cell:/home/nsde/Documents/LaplaceAE/notebooks/semi_protein.ipynb#ch0000000?line=13'>14</a>\u001b[0m \u001b[39mfor\u001b[39;00m i, (name, encoder) \u001b[39min\u001b[39;00m \u001b[39menumerate\u001b[39m(\u001b[39mzip\u001b[39m(names, [get_encoding_ae, get_encoding_mcae, get_encoding_vae, get_encoding_lae])):\n\u001b[0;32m---> <a href='vscode-notebook-cell:/home/nsde/Documents/LaplaceAE/notebooks/semi_protein.ipynb#ch0000000?line=14'>15</a>\u001b[0m     eval_data \u001b[39m=\u001b[39m torch\u001b[39m.\u001b[39mcat([encoder(d) \u001b[39mfor\u001b[39;00m d \u001b[39min\u001b[39;00m eval_set_datapoints], \u001b[39m0\u001b[39m)\n\u001b[1;32m     <a href='vscode-notebook-cell:/home/nsde/Documents/LaplaceAE/notebooks/semi_protein.ipynb#ch0000000?line=15'>16</a>\u001b[0m     res_mean\u001b[39m.\u001b[39mappend([ ])\n\u001b[1;32m     <a href='vscode-notebook-cell:/home/nsde/Documents/LaplaceAE/notebooks/semi_protein.ipynb#ch0000000?line=16'>17</a>\u001b[0m     res_std\u001b[39m.\u001b[39mappend([ ])\n",
      "\u001b[1;32m/home/nsde/Documents/LaplaceAE/notebooks/semi_protein.ipynb Cell 1'\u001b[0m in \u001b[0;36mget_encoding_ae\u001b[0;34m(data, n)\u001b[0m\n\u001b[1;32m      <a href='vscode-notebook-cell:/home/nsde/Documents/LaplaceAE/notebooks/semi_protein.ipynb#ch0000000?line=0'>1</a>\u001b[0m \u001b[39mdef\u001b[39;00m \u001b[39mget_encoding_ae\u001b[39m(data, n\u001b[39m=\u001b[39m\u001b[39m1\u001b[39m):\n\u001b[0;32m----> <a href='vscode-notebook-cell:/home/nsde/Documents/LaplaceAE/notebooks/semi_protein.ipynb#ch0000000?line=1'>2</a>\u001b[0m     \u001b[39mreturn\u001b[39;00m ae_encoder(data)\n",
      "File \u001b[0;32m~/anaconda3/envs/laplace/lib/python3.9/site-packages/torch/nn/modules/module.py:1102\u001b[0m, in \u001b[0;36mModule._call_impl\u001b[0;34m(self, *input, **kwargs)\u001b[0m\n\u001b[1;32m   <a href='file:///home/nsde/anaconda3/envs/laplace/lib/python3.9/site-packages/torch/nn/modules/module.py?line=1097'>1098</a>\u001b[0m \u001b[39m# If we don't have any hooks, we want to skip the rest of the logic in\u001b[39;00m\n\u001b[1;32m   <a href='file:///home/nsde/anaconda3/envs/laplace/lib/python3.9/site-packages/torch/nn/modules/module.py?line=1098'>1099</a>\u001b[0m \u001b[39m# this function, and just call forward.\u001b[39;00m\n\u001b[1;32m   <a href='file:///home/nsde/anaconda3/envs/laplace/lib/python3.9/site-packages/torch/nn/modules/module.py?line=1099'>1100</a>\u001b[0m \u001b[39mif\u001b[39;00m \u001b[39mnot\u001b[39;00m (\u001b[39mself\u001b[39m\u001b[39m.\u001b[39m_backward_hooks \u001b[39mor\u001b[39;00m \u001b[39mself\u001b[39m\u001b[39m.\u001b[39m_forward_hooks \u001b[39mor\u001b[39;00m \u001b[39mself\u001b[39m\u001b[39m.\u001b[39m_forward_pre_hooks \u001b[39mor\u001b[39;00m _global_backward_hooks\n\u001b[1;32m   <a href='file:///home/nsde/anaconda3/envs/laplace/lib/python3.9/site-packages/torch/nn/modules/module.py?line=1100'>1101</a>\u001b[0m         \u001b[39mor\u001b[39;00m _global_forward_hooks \u001b[39mor\u001b[39;00m _global_forward_pre_hooks):\n\u001b[0;32m-> <a href='file:///home/nsde/anaconda3/envs/laplace/lib/python3.9/site-packages/torch/nn/modules/module.py?line=1101'>1102</a>\u001b[0m     \u001b[39mreturn\u001b[39;00m forward_call(\u001b[39m*\u001b[39;49m\u001b[39minput\u001b[39;49m, \u001b[39m*\u001b[39;49m\u001b[39m*\u001b[39;49mkwargs)\n\u001b[1;32m   <a href='file:///home/nsde/anaconda3/envs/laplace/lib/python3.9/site-packages/torch/nn/modules/module.py?line=1102'>1103</a>\u001b[0m \u001b[39m# Do not call functions when jit is used\u001b[39;00m\n\u001b[1;32m   <a href='file:///home/nsde/anaconda3/envs/laplace/lib/python3.9/site-packages/torch/nn/modules/module.py?line=1103'>1104</a>\u001b[0m full_backward_hooks, non_full_backward_hooks \u001b[39m=\u001b[39m [], []\n",
      "File \u001b[0;32m~/Documents/LaplaceAE/src/models/protein.py:35\u001b[0m, in \u001b[0;36mEncoder_protein.forward\u001b[0;34m(self, x)\u001b[0m\n\u001b[1;32m     <a href='file:///home/nsde/Documents/LaplaceAE/src/models/protein.py?line=33'>34</a>\u001b[0m \u001b[39mdef\u001b[39;00m \u001b[39mforward\u001b[39m(\u001b[39mself\u001b[39m, x):\n\u001b[0;32m---> <a href='file:///home/nsde/Documents/LaplaceAE/src/models/protein.py?line=34'>35</a>\u001b[0m     \u001b[39mreturn\u001b[39;00m \u001b[39mself\u001b[39;49m\u001b[39m.\u001b[39;49mencoder(x)\n",
      "File \u001b[0;32m~/anaconda3/envs/laplace/lib/python3.9/site-packages/torch/nn/modules/module.py:1102\u001b[0m, in \u001b[0;36mModule._call_impl\u001b[0;34m(self, *input, **kwargs)\u001b[0m\n\u001b[1;32m   <a href='file:///home/nsde/anaconda3/envs/laplace/lib/python3.9/site-packages/torch/nn/modules/module.py?line=1097'>1098</a>\u001b[0m \u001b[39m# If we don't have any hooks, we want to skip the rest of the logic in\u001b[39;00m\n\u001b[1;32m   <a href='file:///home/nsde/anaconda3/envs/laplace/lib/python3.9/site-packages/torch/nn/modules/module.py?line=1098'>1099</a>\u001b[0m \u001b[39m# this function, and just call forward.\u001b[39;00m\n\u001b[1;32m   <a href='file:///home/nsde/anaconda3/envs/laplace/lib/python3.9/site-packages/torch/nn/modules/module.py?line=1099'>1100</a>\u001b[0m \u001b[39mif\u001b[39;00m \u001b[39mnot\u001b[39;00m (\u001b[39mself\u001b[39m\u001b[39m.\u001b[39m_backward_hooks \u001b[39mor\u001b[39;00m \u001b[39mself\u001b[39m\u001b[39m.\u001b[39m_forward_hooks \u001b[39mor\u001b[39;00m \u001b[39mself\u001b[39m\u001b[39m.\u001b[39m_forward_pre_hooks \u001b[39mor\u001b[39;00m _global_backward_hooks\n\u001b[1;32m   <a href='file:///home/nsde/anaconda3/envs/laplace/lib/python3.9/site-packages/torch/nn/modules/module.py?line=1100'>1101</a>\u001b[0m         \u001b[39mor\u001b[39;00m _global_forward_hooks \u001b[39mor\u001b[39;00m _global_forward_pre_hooks):\n\u001b[0;32m-> <a href='file:///home/nsde/anaconda3/envs/laplace/lib/python3.9/site-packages/torch/nn/modules/module.py?line=1101'>1102</a>\u001b[0m     \u001b[39mreturn\u001b[39;00m forward_call(\u001b[39m*\u001b[39;49m\u001b[39minput\u001b[39;49m, \u001b[39m*\u001b[39;49m\u001b[39m*\u001b[39;49mkwargs)\n\u001b[1;32m   <a href='file:///home/nsde/anaconda3/envs/laplace/lib/python3.9/site-packages/torch/nn/modules/module.py?line=1102'>1103</a>\u001b[0m \u001b[39m# Do not call functions when jit is used\u001b[39;00m\n\u001b[1;32m   <a href='file:///home/nsde/anaconda3/envs/laplace/lib/python3.9/site-packages/torch/nn/modules/module.py?line=1103'>1104</a>\u001b[0m full_backward_hooks, non_full_backward_hooks \u001b[39m=\u001b[39m [], []\n",
      "File \u001b[0;32m~/anaconda3/envs/laplace/lib/python3.9/site-packages/torch/nn/modules/container.py:141\u001b[0m, in \u001b[0;36mSequential.forward\u001b[0;34m(self, input)\u001b[0m\n\u001b[1;32m    <a href='file:///home/nsde/anaconda3/envs/laplace/lib/python3.9/site-packages/torch/nn/modules/container.py?line=138'>139</a>\u001b[0m \u001b[39mdef\u001b[39;00m \u001b[39mforward\u001b[39m(\u001b[39mself\u001b[39m, \u001b[39minput\u001b[39m):\n\u001b[1;32m    <a href='file:///home/nsde/anaconda3/envs/laplace/lib/python3.9/site-packages/torch/nn/modules/container.py?line=139'>140</a>\u001b[0m     \u001b[39mfor\u001b[39;00m module \u001b[39min\u001b[39;00m \u001b[39mself\u001b[39m:\n\u001b[0;32m--> <a href='file:///home/nsde/anaconda3/envs/laplace/lib/python3.9/site-packages/torch/nn/modules/container.py?line=140'>141</a>\u001b[0m         \u001b[39minput\u001b[39m \u001b[39m=\u001b[39m module(\u001b[39minput\u001b[39;49m)\n\u001b[1;32m    <a href='file:///home/nsde/anaconda3/envs/laplace/lib/python3.9/site-packages/torch/nn/modules/container.py?line=141'>142</a>\u001b[0m     \u001b[39mreturn\u001b[39;00m \u001b[39minput\u001b[39m\n",
      "File \u001b[0;32m~/anaconda3/envs/laplace/lib/python3.9/site-packages/torch/nn/modules/module.py:1102\u001b[0m, in \u001b[0;36mModule._call_impl\u001b[0;34m(self, *input, **kwargs)\u001b[0m\n\u001b[1;32m   <a href='file:///home/nsde/anaconda3/envs/laplace/lib/python3.9/site-packages/torch/nn/modules/module.py?line=1097'>1098</a>\u001b[0m \u001b[39m# If we don't have any hooks, we want to skip the rest of the logic in\u001b[39;00m\n\u001b[1;32m   <a href='file:///home/nsde/anaconda3/envs/laplace/lib/python3.9/site-packages/torch/nn/modules/module.py?line=1098'>1099</a>\u001b[0m \u001b[39m# this function, and just call forward.\u001b[39;00m\n\u001b[1;32m   <a href='file:///home/nsde/anaconda3/envs/laplace/lib/python3.9/site-packages/torch/nn/modules/module.py?line=1099'>1100</a>\u001b[0m \u001b[39mif\u001b[39;00m \u001b[39mnot\u001b[39;00m (\u001b[39mself\u001b[39m\u001b[39m.\u001b[39m_backward_hooks \u001b[39mor\u001b[39;00m \u001b[39mself\u001b[39m\u001b[39m.\u001b[39m_forward_hooks \u001b[39mor\u001b[39;00m \u001b[39mself\u001b[39m\u001b[39m.\u001b[39m_forward_pre_hooks \u001b[39mor\u001b[39;00m _global_backward_hooks\n\u001b[1;32m   <a href='file:///home/nsde/anaconda3/envs/laplace/lib/python3.9/site-packages/torch/nn/modules/module.py?line=1100'>1101</a>\u001b[0m         \u001b[39mor\u001b[39;00m _global_forward_hooks \u001b[39mor\u001b[39;00m _global_forward_pre_hooks):\n\u001b[0;32m-> <a href='file:///home/nsde/anaconda3/envs/laplace/lib/python3.9/site-packages/torch/nn/modules/module.py?line=1101'>1102</a>\u001b[0m     \u001b[39mreturn\u001b[39;00m forward_call(\u001b[39m*\u001b[39;49m\u001b[39minput\u001b[39;49m, \u001b[39m*\u001b[39;49m\u001b[39m*\u001b[39;49mkwargs)\n\u001b[1;32m   <a href='file:///home/nsde/anaconda3/envs/laplace/lib/python3.9/site-packages/torch/nn/modules/module.py?line=1102'>1103</a>\u001b[0m \u001b[39m# Do not call functions when jit is used\u001b[39;00m\n\u001b[1;32m   <a href='file:///home/nsde/anaconda3/envs/laplace/lib/python3.9/site-packages/torch/nn/modules/module.py?line=1103'>1104</a>\u001b[0m full_backward_hooks, non_full_backward_hooks \u001b[39m=\u001b[39m [], []\n",
      "File \u001b[0;32m~/anaconda3/envs/laplace/lib/python3.9/site-packages/torch/nn/modules/linear.py:103\u001b[0m, in \u001b[0;36mLinear.forward\u001b[0;34m(self, input)\u001b[0m\n\u001b[1;32m    <a href='file:///home/nsde/anaconda3/envs/laplace/lib/python3.9/site-packages/torch/nn/modules/linear.py?line=101'>102</a>\u001b[0m \u001b[39mdef\u001b[39;00m \u001b[39mforward\u001b[39m(\u001b[39mself\u001b[39m, \u001b[39minput\u001b[39m: Tensor) \u001b[39m-\u001b[39m\u001b[39m>\u001b[39m Tensor:\n\u001b[0;32m--> <a href='file:///home/nsde/anaconda3/envs/laplace/lib/python3.9/site-packages/torch/nn/modules/linear.py?line=102'>103</a>\u001b[0m     \u001b[39mreturn\u001b[39;00m F\u001b[39m.\u001b[39;49mlinear(\u001b[39minput\u001b[39;49m, \u001b[39mself\u001b[39;49m\u001b[39m.\u001b[39;49mweight, \u001b[39mself\u001b[39;49m\u001b[39m.\u001b[39;49mbias)\n",
      "File \u001b[0;32m~/anaconda3/envs/laplace/lib/python3.9/site-packages/torch/nn/functional.py:1848\u001b[0m, in \u001b[0;36mlinear\u001b[0;34m(input, weight, bias)\u001b[0m\n\u001b[1;32m   <a href='file:///home/nsde/anaconda3/envs/laplace/lib/python3.9/site-packages/torch/nn/functional.py?line=1845'>1846</a>\u001b[0m \u001b[39mif\u001b[39;00m has_torch_function_variadic(\u001b[39minput\u001b[39m, weight, bias):\n\u001b[1;32m   <a href='file:///home/nsde/anaconda3/envs/laplace/lib/python3.9/site-packages/torch/nn/functional.py?line=1846'>1847</a>\u001b[0m     \u001b[39mreturn\u001b[39;00m handle_torch_function(linear, (\u001b[39minput\u001b[39m, weight, bias), \u001b[39minput\u001b[39m, weight, bias\u001b[39m=\u001b[39mbias)\n\u001b[0;32m-> <a href='file:///home/nsde/anaconda3/envs/laplace/lib/python3.9/site-packages/torch/nn/functional.py?line=1847'>1848</a>\u001b[0m \u001b[39mreturn\u001b[39;00m torch\u001b[39m.\u001b[39;49m_C\u001b[39m.\u001b[39;49m_nn\u001b[39m.\u001b[39;49mlinear(\u001b[39minput\u001b[39;49m, weight, bias)\n",
      "\u001b[0;31mRuntimeError\u001b[0m: mat1 and mat2 shapes cannot be multiplied (2592x24 and 62208x1000)"
     ]
    },
    {
     "data": {
      "image/png": "[encoded data removed]",
      "text/plain": [
       "<Figure size 1440x720 with 24 Axes>"
      ]
     },
     "metadata": {
      "needs_background": "light"
     },
     "output_type": "display_data"
    }
   ],
   "source": [
    "from sklearn.neighbors import KNeighborsClassifier\n",
    "from sklearn.model_selection import GridSearchCV\n",
    "import matplotlib.pyplot as plt\n",
    "import numpy as np\n",
    "\n",
    "z_grid = torch.meshgrid([torch.linspace(-10, 10, 100), torch.linspace(-10, 10, 100)])\n",
    "z_grid = torch.stack(z_grid, 0).reshape(2, -1).T\n",
    "\n",
    "names = ['ae', 'mcae', 'vae', 'lae']\n",
    "scales = [1, 2, 5, 10, 20, 100]\n",
    "#fig, ax = plt.subplots(4, len(scales), figsize=(20, 10))\n",
    "res_mean, res_std = [], []\n",
    "reps = 2\n",
    "for i, (name, encoder) in enumerate(zip(names, [get_encoding_ae, get_encoding_mcae, get_encoding_vae, get_encoding_lae])):\n",
    "    eval_data = torch.cat([encoder(d) for d in eval_set_datapoints], 0)\n",
    "    res_mean.append([ ])\n",
    "    res_std.append([ ])\n",
    "    for j, s in enumerate(scales):\n",
    "        res = [ ]\n",
    "        for r in range(reps):\n",
    "            train_data = torch.cat([encoder(d, s) for d in selected_datapoints], 0)\n",
    "            train_labels = selected_labels.repeat_interleave(s) if name != 'ae' else selected_labels\n",
    "            classifier = KNeighborsClassifier(1)\n",
    "            # classifier = GridSearchCV(\n",
    "            #     KNeighborsClassifier(),\n",
    "            #     {'n_neighbors': [2, 3, 4, 5, 6, 7, 8, 9, 10]},\n",
    "            #     cv=3,\n",
    "            #     refit=True,\n",
    "            # )\n",
    "            classifier.fit(train_data.detach().numpy(), train_labels.detach().numpy())\n",
    "            preds = classifier.predict(eval_data.detach().numpy())\n",
    "            acc = (preds == eval_set_labels.numpy()).mean()\n",
    "            res.append(acc)\n",
    "\n",
    "        res_mean[-1].append(np.mean(res))\n",
    "        res_std[-1].append(np.std(res))\n",
    "\n",
    "        preds_grid = classifier.predict(z_grid.numpy())\n",
    "        # ax[i, j].contourf(\n",
    "        #     z_grid[:,0].reshape(100, 100),\n",
    "        #     z_grid[:,1].reshape(100, 100),\n",
    "        #     preds_grid.reshape(100, 100)\n",
    "        # )\n",
    "res_mean = np.asarray(res_mean)\n",
    "res_std = np.asarray(res_std)"
   ]
  },
  {
   "cell_type": "code",
   "execution_count": 45,
   "metadata": {},
   "outputs": [
    {
     "data": {
      "text/plain": [
       "<matplotlib.legend.Legend at 0x1797f446820>"
      ]
     },
     "execution_count": 45,
     "metadata": {},
     "output_type": "execute_result"
    },
    {
     "data": {
      "image/png": "[encoded data removed]",
      "text/plain": [
       "<Figure size 432x288 with 1 Axes>"
      ]
     },
     "metadata": {
      "needs_background": "light"
     },
     "output_type": "display_data"
    }
   ],
   "source": [
    "fig = plt.figure()\n",
    "for i, name in enumerate(names):\n",
    "    plt.plot(scales, res_mean[i], label=name)\n",
    "    plt.fill_between(scales, res_mean[i] + res_std[i], res_mean[i] - res_std[i], alpha=0.5)\n",
    "\n",
    "plt.legend()"
   ]
  },
  {
   "cell_type": "code",
   "execution_count": null,
   "metadata": {},
   "outputs": [],
   "source": []
  }
 ],
 "metadata": {
  "interpreter": {
   "hash": "7f38f2cf167dd638a68589753ac945f82792a46e5345f8aeb2baba5a97533fb1"
  },
  "kernelspec": {
   "display_name": "Python 3.9.12 ('laplace')",
   "language": "python",
   "name": "python3"
  },
  "language_info": {
   "codemirror_mode": {
    "name": "ipython",
    "version": 3
   },
   "file_extension": ".py",
   "mimetype": "text/x-python",
   "name": "python",
   "nbconvert_exporter": "python",
   "pygments_lexer": "ipython3",
   "version": "3.9.12"
  },
  "orig_nbformat": 4
 },
 "nbformat": 4,
 "nbformat_minor": 2
}
