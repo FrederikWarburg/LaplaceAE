{
 "cells": [
  {
   "cell_type": "code",
   "execution_count": null,
   "metadata": {},
   "outputs": [],
   "source": []
  }
 ],
 "metadata": {
  "interpreter": {
   "hash": "624dc3edb398ccd32d6502e59fa57cd42d17080308deeb00d3a732b8d526ac16"
  },
  "kernelspec": {
   "display_name": "Python 3.9.12 ('laplace')",
   "language": "python",
   "name": "python3"
  },
  "language_info": {
   "name": "python",
   "version": "3.9.12"
  },
  "orig_nbformat": 4
 },
 "nbformat": 4,
 "nbformat_minor": 2
}
